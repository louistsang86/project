{
 "cells": [
  {
   "cell_type": "code",
   "execution_count": 2,
   "metadata": {
    "collapsed": false
   },
   "outputs": [
    {
     "name": "stderr",
     "output_type": "stream",
     "text": [
      "/Users/jiaminlim93/anaconda/lib/python2.7/site-packages/IPython/core/interactiveshell.py:2717: DtypeWarning: Columns (10) have mixed types. Specify dtype option on import or set low_memory=False.\n",
      "  interactivity=interactivity, compiler=compiler, result=result)\n"
     ]
    }
   ],
   "source": [
    "import pandas as pd\n",
    "loans = pd.read_csv('/Users/jiaminlim93/Desktop/GA Data Science Course/project/Data Science Project_Jiamin_/all_loans.csv', index_col='id')"
   ]
  },
  {
   "cell_type": "code",
   "execution_count": null,
   "metadata": {
    "collapsed": false
   },
   "outputs": [],
   "source": [
    "#loans.count()\n",
    "#loans.status.value_counts()\n",
    "#type(loans)\n",
    "#loans.isnull().sum()\n",
    "#loans.dropna() "
   ]
  },
  {
   "cell_type": "code",
   "execution_count": null,
   "metadata": {
    "collapsed": false
   },
   "outputs": [],
   "source": [
    "#Cleaning dataset - so there are no nas\n",
    "df = loans.drop(['basket_amount','paid_amount','paid_date','planned_expiration_date','partner'], axis=1)\n",
    "df = df[df.posted_date.notnull()] # dropping any rows with na - only should drp some not all\n",
    "\n",
    "# Create new variables\n",
    "# 1 - time it took to fund variable (funded loans)\n",
    "from datetime import datetime\n",
    "df['posted_date'] = pd.to_datetime(df['posted_date'], format='%d-%m-%Y %H:%M:%S')\n",
    "df['funded_date'] = pd.to_datetime(df['funded_date'], format='%d-%m-%Y %H:%M:%S')\n",
    "df['days_to_fund'] = (df['funded_date'] - df['posted_date']).dt.days\n",
    "\n",
    "# 2 - share of loan funded (expired data)\n",
    "dates=df.loc[:,['posted_date','funded_date','days_to_fund']]\n",
    "df['share_funded'] = df['funded_amount'] / df['loan_amount']\n",
    "df=df[df['days_to_fund'] > 0]\n",
    "\n",
    "#df.count()"
   ]
  },
  {
   "cell_type": "code",
   "execution_count": null,
   "metadata": {
    "collapsed": false
   },
   "outputs": [],
   "source": [
    "# Scatterplots & histograms\n",
    "#import matplotlib.pyplot as plt\n",
    "#%matplotlib inline\n",
    "#\n",
    "#df.plot(x='days_to_fund', y='loan_amount', style='o')\n",
    "# df['loan_amount'].unique()\n",
    "# df['share_funded'].plot.hist(bins=100)\n",
    "# days_to_fund and loan_amount\n",
    "# share_funded and loan_amount"
   ]
  },
  {
   "cell_type": "code",
   "execution_count": 3,
   "metadata": {
    "collapsed": false
   },
   "outputs": [],
   "source": [
    "# Count by variable & creating csv output\n",
    "countrycount = loans['country'].value_counts().reset_index()\n",
    "countrycount.columns = ['country', 'count']\n",
    "type(countrycount)\n",
    "countrycount.to_csv('countrycount.csv')\n",
    "# df.status.value_counts()\n",
    "# df.sector.value_counts()\n",
    "# df.partner.value_counts()"
   ]
  },
  {
   "cell_type": "code",
   "execution_count": null,
   "metadata": {
    "collapsed": false
   },
   "outputs": [],
   "source": [
    "# Groupby 2 variables and calculate a value\n",
    "df.groupby('sector')['total_borrowers_count'].mean()\n",
    "df.groupby('status')['share_funded'].mean()"
   ]
  },
  {
   "cell_type": "code",
   "execution_count": null,
   "metadata": {
    "collapsed": false
   },
   "outputs": [],
   "source": [
    "# Read defaulted data in\n",
    "defaulted = pd.read_csv('/Users/jiaminlim93/Desktop/GA Data Science Course/project/Data Science Project_Jiamin_/all_defaulted_loans.csv', index_col='id')\n",
    "defaulted.head()"
   ]
  },
  {
   "cell_type": "code",
   "execution_count": null,
   "metadata": {
    "collapsed": false
   },
   "outputs": [],
   "source": [
    "# Subsetting on all the loans that are expired and plotting the share of the loan that was funded\n",
    "expired=df[df['status'] == 'expired']\n",
    "expired.head()\n",
    "#import matplotlib.pyplot as plt\n",
    "#%matplotlib inline\n",
    "#expired.info()\n",
    "\n",
    "# expired['share_funded'].plot.hist(bins=10)\n",
    "# expired.plot(x='loan_amount', y='share_funded', style='o')\n",
    "# expired['share_funded'].plot.hist(bins=20)"
   ]
  },
  {
   "cell_type": "code",
   "execution_count": null,
   "metadata": {
    "collapsed": false
   },
   "outputs": [],
   "source": [
    "#loans['days_to_fund'].plot.hist(bins=100)\n",
    "questions=dates[dates['days_to_fund'] > 0]\n",
    "questions['days_to_fund'].plot.hist(bins=300)"
   ]
  },
  {
   "cell_type": "code",
   "execution_count": null,
   "metadata": {
    "collapsed": true
   },
   "outputs": [],
   "source": [
    "# Plot geographical location data - density by colour (by loan volume and value\n",
    "# possible x-variable: country, sector, number of people taking the loan, number of male/female, loan term, (partner data)\n",
    "# Find the default data\n",
    "# Can you splice partner data in? How are you going to use it as an explanatory variable if it reoccurs?"
   ]
  }
 ],
 "metadata": {
  "anaconda-cloud": {},
  "kernelspec": {
   "display_name": "Python [default]",
   "language": "python",
   "name": "python2"
  },
  "language_info": {
   "codemirror_mode": {
    "name": "ipython",
    "version": 2
   },
   "file_extension": ".py",
   "mimetype": "text/x-python",
   "name": "python",
   "nbconvert_exporter": "python",
   "pygments_lexer": "ipython2",
   "version": "2.7.12"
  }
 },
 "nbformat": 4,
 "nbformat_minor": 1
}
